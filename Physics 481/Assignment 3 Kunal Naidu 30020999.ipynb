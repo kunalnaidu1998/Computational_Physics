{
 "cells": [
  {
   "cell_type": "markdown",
   "metadata": {},
   "source": [
    "# Assignment 3\n",
    "## Kunal Naidu\n",
    "## 30020999\n",
    "\n",
    "## Introduction\n",
    "In this report we will first start with creating a basic 1-dimensional cellular automata. Using entropy we will determine which rules are the most random and use them to calculate a most random 64-bit interger we can. Following that we will work with a game of life, first looking at the mean number of live cells once reaching a steady state. Finally we will vary the probability to see how that effects the mean number of live cells once reaching a steady state.\n",
    "\n",
    "We will start off by writing a function that creates a 1-dimensional grid. Following that we made a function which steps the grid by using rules that change a cell in a grid by looking at it's neighbors."
   ]
  },
  {
   "cell_type": "code",
   "execution_count": 1,
   "metadata": {},
   "outputs": [],
   "source": [
    "import numpy as np\n",
    "import matplotlib.pyplot as plt\n",
    "import phys481_game_of_life"
   ]
  },
  {
   "cell_type": "code",
   "execution_count": 2,
   "metadata": {},
   "outputs": [],
   "source": [
    "def one_dimentional_grid(ncells):\n",
    "    \"\"\"\n",
    "    Creates a one dimentional grid\n",
    "    \n",
    "    Parameters\n",
    "    ----------\n",
    "    \n",
    "    ncells: size of grid\n",
    "    \n",
    "    Returns\n",
    "    -------\n",
    "    \n",
    "    state: grid\n",
    "    \n",
    "    \n",
    "    \"\"\"\n",
    "    state=np.zeros(ncells, dtype=np.int8)\n",
    "    return state\n",
    "\n"
   ]
  },
  {
   "cell_type": "code",
   "execution_count": 3,
   "metadata": {},
   "outputs": [],
   "source": [
    "def cellular_step(value, rule_number=18):\n",
    "    \n",
    "    lookup = np.unpackbits( np.uint8(rule_number) )[::-1]\n",
    "    triple = np.roll(value,+1)*4 + value*2 + np.roll(value,-1)\n",
    "    \n",
    "    return lookup[triple]\n"
   ]
  },
  {
   "cell_type": "code",
   "execution_count": 4,
   "metadata": {},
   "outputs": [],
   "source": [
    "def one_d_auto(ncells,nsteps,rule_number):\n",
    "    \n",
    "    state=one_dimentional_grid(ncells)\n",
    "    state[ncells//2] = 1\n",
    "\n",
    "    grid = np.ndarray( [nsteps, len(state)], dtype=np.int8)\n",
    "\n",
    "    for n in range(nsteps):\n",
    "        state = cellular_step( state, rule_number)\n",
    "        grid[n,:] = state\n",
    "    return grid"
   ]
  },
  {
   "cell_type": "code",
   "execution_count": 5,
   "metadata": {},
   "outputs": [
    {
     "data": {
      "text/plain": [
       "<matplotlib.image.AxesImage at 0x115079208>"
      ]
     },
     "execution_count": 5,
     "metadata": {},
     "output_type": "execute_result"
    },
    {
     "data": {
      "image/png": "[encoded data removed]",
      "text/plain": [
       "<matplotlib.figure.Figure at 0x10f619ac8>"
      ]
     },
     "metadata": {},
     "output_type": "display_data"
    }
   ],
   "source": [
    "plt.imshow(one_d_auto(64,64,30))"
   ]
  },
  {
   "cell_type": "markdown",
   "metadata": {},
   "source": [
    "Now we will calculate the entropy for the 1-dimensional automata. We know entropy is defined using the following formula.\n",
    "$$  H = -\\sum_{i=1}^n p_i \\; log_2{p_i} = -\\frac{1}{\\ln 2} \\,\\sum_{i=1}^n p_i \\; \\ln{p_i} $$"
   ]
  },
  {
   "cell_type": "code",
   "execution_count": 6,
   "metadata": {},
   "outputs": [],
   "source": [
    "def entropy_rule(grid,nsteps):\n",
    "    line1=[]\n",
    "    line2=[]\n",
    "    for i in range(20,nsteps):\n",
    "        line1.append(grid[len(grid[1])//3,i])\n",
    "        line2.append(grid[2*len(grid[1])//3,i])\n",
    "    unique1, counts1 = np.unique(line1, return_counts=True)\n",
    "    unique2, counts2 = np.unique(line2, return_counts=True)\n",
    "    probability_1= counts1/len(line1)\n",
    "    probability_2= counts2/len(line2)\n",
    "    entropy_1=-(1/np.log(2))*np.sum(probability_1*np.log(probability_1))\n",
    "    entropy_2=-(1/np.log(2))*np.sum(probability_2*np.log(probability_2))\n",
    "    mean_entropy=(entropy_1+entropy_2)/2\n",
    "    return mean_entropy"
   ]
  },
  {
   "cell_type": "code",
   "execution_count": 7,
   "metadata": {},
   "outputs": [
    {
     "data": {
      "text/plain": [
       "0.9932723150027822"
      ]
     },
     "execution_count": 7,
     "metadata": {},
     "output_type": "execute_result"
    }
   ],
   "source": [
    "entropy_rule(one_d_auto(64,64,30),64)"
   ]
  },
  {
   "cell_type": "code",
   "execution_count": 8,
   "metadata": {},
   "outputs": [
    {
     "name": "stdout",
     "output_type": "stream",
     "text": [
      "[(0.9962696551972943, 109), (0.9932723150027822, 30), (0.9902874207412604, 86), (0.9880103241183076, 50), (0.9880103241183076, 58)]\n"
     ]
    }
   ],
   "source": [
    "rule_number=list(range(256))\n",
    "entropy=[]\n",
    "for values in rule_number:\n",
    "    entropy.append(entropy_rule(one_d_auto(64,64,values),64))\n",
    "\n",
    "def getKey(item):\n",
    "    return item[0]\n",
    "\n",
    "print(sorted(zip(entropy,rule_number ), reverse=True, key=getKey)[:5])"
   ]
  },
  {
   "cell_type": "code",
   "execution_count": 9,
   "metadata": {},
   "outputs": [
    {
     "data": {
      "text/plain": [
       "<matplotlib.image.AxesImage at 0x1151aeda0>"
      ]
     },
     "execution_count": 9,
     "metadata": {},
     "output_type": "execute_result"
    },
    {
     "data": {
      "image/png": "[encoded data removed]",
      "text/plain": [
       "<matplotlib.figure.Figure at 0x115188f28>"
      ]
     },
     "metadata": {},
     "output_type": "display_data"
    }
   ],
   "source": [
    "plt.imshow(one_d_auto(64,64,109))"
   ]
  },
  {
   "cell_type": "code",
   "execution_count": 10,
   "metadata": {},
   "outputs": [
    {
     "data": {
      "text/plain": [
       "<matplotlib.image.AxesImage at 0x1152b45c0>"
      ]
     },
     "execution_count": 10,
     "metadata": {},
     "output_type": "execute_result"
    },
    {
     "data": {
      "image/png": "[encoded data removed]",
      "text/plain": [
       "<matplotlib.figure.Figure at 0x1151888d0>"
      ]
     },
     "metadata": {},
     "output_type": "display_data"
    }
   ],
   "source": [
    "plt.imshow(one_d_auto(64,64,30))"
   ]
  },
  {
   "cell_type": "code",
   "execution_count": 11,
   "metadata": {},
   "outputs": [
    {
     "data": {
      "text/plain": [
       "<matplotlib.image.AxesImage at 0x11532d908>"
      ]
     },
     "execution_count": 11,
     "metadata": {},
     "output_type": "execute_result"
    },
    {
     "data": {
      "image/png": "[encoded data removed]",
      "text/plain": [
       "<matplotlib.figure.Figure at 0x115195278>"
      ]
     },
     "metadata": {},
     "output_type": "display_data"
    }
   ],
   "source": [
    "plt.imshow(one_d_auto(64,64,86))"
   ]
  },
  {
   "cell_type": "code",
   "execution_count": 12,
   "metadata": {},
   "outputs": [
    {
     "data": {
      "text/plain": [
       "<matplotlib.image.AxesImage at 0x115480e10>"
      ]
     },
     "execution_count": 12,
     "metadata": {},
     "output_type": "execute_result"
    },
    {
     "data": {
      "image/png": "[encoded data removed]",
      "text/plain": [
       "<matplotlib.figure.Figure at 0x11504fe80>"
      ]
     },
     "metadata": {},
     "output_type": "display_data"
    }
   ],
   "source": [
    "plt.imshow(one_d_auto(64,64,50))"
   ]
  },
  {
   "cell_type": "code",
   "execution_count": 13,
   "metadata": {},
   "outputs": [
    {
     "data": {
      "text/plain": [
       "<matplotlib.image.AxesImage at 0x1155051d0>"
      ]
     },
     "execution_count": 13,
     "metadata": {},
     "output_type": "execute_result"
    },
    {
     "data": {
      "image/png": "[encoded data removed]",
      "text/plain": [
       "<matplotlib.figure.Figure at 0x1153092e8>"
      ]
     },
     "metadata": {},
     "output_type": "display_data"
    }
   ],
   "source": [
    "plt.imshow(one_d_auto(64,64,58))"
   ]
  },
  {
   "cell_type": "code",
   "execution_count": 14,
   "metadata": {},
   "outputs": [
    {
     "name": "stdout",
     "output_type": "stream",
     "text": [
      "13805745078272\n"
     ]
    }
   ],
   "source": [
    "rule_number_highest=[109,30,86,50,58]\n",
    "random_rule=np.random.choice(rule_number_highest)\n",
    "position=np.random.randint(0,len(one_d_auto(64,64,133)))\n",
    "binary_list=one_d_auto(64,64,random_rule)[position]\n",
    "\n",
    "binary=str(binary_list[0])\n",
    "\n",
    "for values in range(1,len(binary_list)):\n",
    "    binary=binary+str(binary_list[values])\n",
    "print(int(binary,2))"
   ]
  },
  {
   "cell_type": "code",
   "execution_count": 15,
   "metadata": {},
   "outputs": [
    {
     "data": {
      "text/plain": [
       "Text(0,0.5,'Entropy')"
      ]
     },
     "execution_count": 15,
     "metadata": {},
     "output_type": "execute_result"
    },
    {
     "data": {
      "image/png": "[encoded data removed]",
      "text/plain": [
       "<matplotlib.figure.Figure at 0x1155a6320>"
      ]
     },
     "metadata": {},
     "output_type": "display_data"
    }
   ],
   "source": [
    "plt.plot(rule_number,entropy,\"go\")\n",
    "plt.grid('on')\n",
    "plt.title('The Entropy Of Different Rules')\n",
    "plt.xlabel('Rule Number')\n",
    "plt.ylabel('Entropy')\n",
    "\n"
   ]
  },
  {
   "cell_type": "markdown",
   "metadata": {},
   "source": [
    "Initailly entropy was attempted to be calculated horizontally and summed over the different steps. But when finding the top 5 largest entopies and plotting them, the plots didn't look very random. \n",
    "\n",
    "So another appraoch was taken by calculating the entropy vertically. This comes to makes more sense because by calculating the entropy vertically, we can see the change of values. Thus being able to find the rules with the most random changes. \n",
    "\n",
    "First we thought to calculate the entropy of a single verticle line. But there could be the possibility that even though a certain line has a large entropy that might not be true for the rest of the lines. So then the next thought was to sum the entropies for all verticle lines. But a problem with this was that calculating the entopy towards the edges would be an issue because theres an interaction with the wall of some kind of absorbtion or reflection. \n",
    "\n",
    "So what was chosen to do at the end was to take the mean of two entropies. One calculated 1/3 and another 2/3 in the middle. This gives us both advantages of calculating for more than one verticle line and not taking into account of the edges. And after finding the top 5 largest entropies we can visually see that they are more random.\n",
    "\n",
    "Now we ploted the Entropy for different rules. We can see that most rules have low entropy while few of them large entropy. Also, we see that almost all rules either have very large entropies or very low entropies with nothing in the middle.\n",
    "\n",
    "We were able to generate a pseudorandom sequence 64-bit integer based on a cellular automaton using the highest entropy rule. \n",
    "\n",
    "Now we will look at the game of life. We will do this by defining a game of life class and a function that takes a grid with a known initail probability calculates the mean and standard deviation of the number of live cells. We will define standard deviation $\\sigma$ and mean $\\bar{x}$ as:\n",
    "\n",
    "$$\\bar{x} =\\frac{ \\sum\\limits_{i=1}^{N}x}{N}$$\n",
    "\n",
    "$$\\sigma=\\sqrt{\\frac{1}{N}\\sum\\limits_{i=1}^{N}(x_i-\\bar{x})}$$\n",
    "\n"
   ]
  },
  {
   "cell_type": "code",
   "execution_count": 16,
   "metadata": {},
   "outputs": [],
   "source": [
    "class GameOfLife_basic:\n",
    "    ''' basic object example for Conway's 2D automata \"game of life\"\n",
    "    '''\n",
    "    \n",
    "    # a \"class variable\" is shared by all instances\n",
    "    # this can be used for default configuration or for\n",
    "    # keeping global stats ie. how many objects have been created\n",
    "    default_grid = np.zeros( [31,21] )\n",
    "    \n",
    "    \n",
    "    def __init__(self, grid=None):\n",
    "        \n",
    "        ''' the __init__ method is run whenever an instance is created\n",
    "        '''      \n",
    "        self.prob=0.5\n",
    "        \n",
    "        if grid is None:\n",
    "            self._init_grid(random=True)\n",
    "        else:\n",
    "            self.grid = grid\n",
    "        \n",
    "        \n",
    "    def _init_grid(self, grid=None, random=True):\n",
    "        '''\n",
    "        this could probably all be inside __init__, but it can be useful\n",
    "        to factor it out so that we can call it separately\n",
    "        '''\n",
    "\n",
    "        self.grid = self.default_grid.copy() if grid is None else grid\n",
    "\n",
    "        self._init_step()\n",
    "        \n",
    "        if random:\n",
    "            self.randomize()\n",
    "            \n",
    "            \n",
    "    def randomize(self):\n",
    "        '''\n",
    "        this serves as an example of a very simple method\n",
    "        '''\n",
    "        self.grid = np.random.rand(*self.grid.shape) > self.prob\n",
    "        return self\n",
    "    \n",
    "\n",
    "    def _init_step(self):\n",
    "        '''\n",
    "        factor out calculations that are only required once per grid\n",
    "        '''\n",
    "        self.stepnum = 0\n",
    "        \n",
    "        nx, ny = self.grid.shape\n",
    "        x,y = np.meshgrid( np.arange(nx), np.arange(ny), indexing='ij' )\n",
    "        xx = np.array([x+1, x-1, x+0, x+0, x+1, x-1, x+1, x-1]) % nx\n",
    "        yy = np.array([y+0, y+0, y+1, y-1, y+1, y-1, y-1, y+1]) % ny\n",
    "        self.step_xy = xx,yy     \n",
    "        \n",
    "        \n",
    "    def step(self, nsteps=100):\n",
    "        ''' apply rules to evolve the grid by one step\n",
    "        ?? how much of this code only needs to be run once per grid rather than at every step ??\n",
    "        '''\n",
    "        \n",
    "        self.stepnum += 1\n",
    "        grid = self.grid.copy()  # inefficient but safe?  -discuss \n",
    "        x, y = self.step_xy\n",
    "        \n",
    "        for indx in range(nsteps):            \n",
    "            nnear = np.sum( grid[x,y] , axis=0 )\n",
    "            grid[(nnear < 2) | (nnear > 3)] = 0\n",
    "            grid[nnear==3] = 1\n",
    "            \n",
    "        self.grid = grid\n",
    "        return self\n",
    "    \n",
    "    \n",
    "    def plot(self, axes=None, flush=True):\n",
    "        '''\n",
    "        '''\n",
    "        if axes is None:\n",
    "            fig, axes = plt.subplots()\n",
    "        axes.imshow( self.grid )\n",
    "        return self"
   ]
  },
  {
   "cell_type": "code",
   "execution_count": 17,
   "metadata": {},
   "outputs": [],
   "source": [
    "def mean(probability,itterations):\n",
    "    total_true=[]\n",
    "    add=0\n",
    "    for i in range(itterations):\n",
    "        obj=GameOfLife_basic()\n",
    "        obj.prob=probability\n",
    "        obj.randomize()\n",
    "        #print(obj.grid)\n",
    "        obj.step()\n",
    "        total_true.append(np.sum(obj.grid))\n",
    "    mean=np.sum(total_true)/itterations\n",
    "    for j in total_true:\n",
    "        add = add+(j-mean)**2\n",
    "    std=(((1)/(itterations))*(add))**(1/2)\n",
    "    return mean, std"
   ]
  },
  {
   "cell_type": "code",
   "execution_count": 18,
   "metadata": {},
   "outputs": [
    {
     "name": "stdout",
     "output_type": "stream",
     "text": [
      "61.815 ± 27.222615138887736\n"
     ]
    }
   ],
   "source": [
    "a=mean(0.5,200)\n",
    "print(a[0],\"±\",a[1])"
   ]
  },
  {
   "cell_type": "code",
   "execution_count": 19,
   "metadata": {},
   "outputs": [],
   "source": [
    "mean_values=[]\n",
    "mean_error=[]\n",
    "\n",
    "rule_number=np.linspace(0,1,11)\n",
    "for values in rule_number:\n",
    "    b=mean(values,100)\n",
    "    mean_values.append(b[0])\n",
    "    mean_error.append(b[1])\n",
    "   "
   ]
  },
  {
   "cell_type": "code",
   "execution_count": 20,
   "metadata": {},
   "outputs": [
    {
     "data": {
      "text/plain": [
       "Text(0,0.5,'Mean Number of True Values')"
      ]
     },
     "execution_count": 20,
     "metadata": {},
     "output_type": "execute_result"
    },
    {
     "data": {
      "image/png": "[encoded data removed]",
      "text/plain": [
       "<matplotlib.figure.Figure at 0x10d5e4940>"
      ]
     },
     "metadata": {},
     "output_type": "display_data"
    }
   ],
   "source": [
    "plt.errorbar(rule_number,mean_values,yerr=mean_error)\n",
    "plt.grid('on')\n",
    "plt.title('Mean of True Values in Game of Life Grid For Different Probabilities')\n",
    "plt.xlabel('Probabilities')\n",
    "plt.ylabel('Mean Number of True Values')\n",
    "\n"
   ]
  },
  {
   "cell_type": "code",
   "execution_count": 21,
   "metadata": {},
   "outputs": [],
   "source": [
    "def GameOfLifePlot(probability):\n",
    "    obj=GameOfLife_basic()\n",
    "    obj.prob=probability\n",
    "    obj.randomize()\n",
    "    obj.step()\n",
    "    obj.plot()\n",
    "    return"
   ]
  },
  {
   "cell_type": "code",
   "execution_count": 22,
   "metadata": {},
   "outputs": [
    {
     "data": {
      "image/png": "[encoded data removed]",
      "text/plain": [
       "<matplotlib.figure.Figure at 0x1150f7cc0>"
      ]
     },
     "metadata": {},
     "output_type": "display_data"
    }
   ],
   "source": [
    "GameOfLifePlot(0.1)"
   ]
  },
  {
   "cell_type": "code",
   "execution_count": 23,
   "metadata": {},
   "outputs": [
    {
     "data": {
      "image/png": "[encoded data removed]",
      "text/plain": [
       "<matplotlib.figure.Figure at 0x115838438>"
      ]
     },
     "metadata": {},
     "output_type": "display_data"
    }
   ],
   "source": [
    "GameOfLifePlot(0.3)"
   ]
  },
  {
   "cell_type": "code",
   "execution_count": 24,
   "metadata": {},
   "outputs": [
    {
     "data": {
      "image/png": "[encoded data removed]",
      "text/plain": [
       "<matplotlib.figure.Figure at 0x115201c88>"
      ]
     },
     "metadata": {},
     "output_type": "display_data"
    }
   ],
   "source": [
    "GameOfLifePlot(0.6)"
   ]
  },
  {
   "cell_type": "code",
   "execution_count": 25,
   "metadata": {},
   "outputs": [
    {
     "data": {
      "image/png": "[encoded data removed]",
      "text/plain": [
       "<matplotlib.figure.Figure at 0x1158c25c0>"
      ]
     },
     "metadata": {},
     "output_type": "display_data"
    }
   ],
   "source": [
    "GameOfLifePlot(0.9)"
   ]
  },
  {
   "cell_type": "code",
   "execution_count": 26,
   "metadata": {},
   "outputs": [
    {
     "data": {
      "image/png": "[encoded data removed]",
      "text/plain": [
       "<matplotlib.figure.Figure at 0x1159185c0>"
      ]
     },
     "metadata": {},
     "output_type": "display_data"
    }
   ],
   "source": [
    "GameOfLifePlot(1)"
   ]
  },
  {
   "cell_type": "markdown",
   "metadata": {},
   "source": [
    "We were able to calculate a mean value for grid with a starting probability of 0.5. The values we would get were around 30-50. The standard deviation was fairly large being almost half of whatever value we would calculate for our mean. This obviously makes sense because our mean value changes every time we made the calculation. I guess a possible way to decrease incertienty would be run the calculation for more iterations but this would be more time intensive.\n",
    "\n",
    "After we varied probability of the initial grid and compared it to the number of true values that occur during a steady state. We can see when the probability is approximately lower than 0.2 we generally have no live cells. Between a probability of 0.4 and 0.8 we have alot of true values. Between 0.8 and 1, the amount of true values quickly decrease. Plots around these points can visually show us that the graph is correct.\n",
    "\n",
    "Looking at the begginning and end of the graph can help to confirm the rules that dictate which cells are alive and dead. Looking at the begginning we can see that theres a little area where the number of truthes stay at zero before inceasing. This could possibly tell us that the rule is effecting by the number of alive cells. So there needs to be a minimum about of live cells for anything to take effect. The end of the graph can tells us that the rule kills cells that have too many alive cells around them.\n",
    "\n",
    "By analyzing the graph we get a basic understanding of how the rules funciton. \n",
    "\n",
    "## Conclusion\n",
    "\n",
    "In this report we will first start with creating a basic 1-dimensional cellular automata. Using entropy we will determine which rules are the most random and use them to calculate a most random 64-bit interger we can. Following that we will work with a game of life, first looking at the mean number of live cells once reaching a steady state. Finally we will vary the probability to see how that effects the mean number of live cells once reaching a steady state.\n",
    "\n",
    "In this report we looked at 1-dimensional cellular automata. We determined rules 109, 30, 86, 50, and 58 had the highest entropy. Using this analysis we were able to create a random 64-bit value using a high entropy rule. After we looked at the game of life. First finding the mean number of lives cells once reaching steady state. Finally we looking at the effects to lives cells as we varied the intial proability of the grid. Using this we were able to do confirm how the rules worked."
   ]
  }
 ],
 "metadata": {
  "kernelspec": {
   "display_name": "Python 3",
   "language": "python",
   "name": "python3"
  },
  "language_info": {
   "codemirror_mode": {
    "name": "ipython",
    "version": 3
   },
   "file_extension": ".py",
   "mimetype": "text/x-python",
   "name": "python",
   "nbconvert_exporter": "python",
   "pygments_lexer": "ipython3",
   "version": "3.6.3"
  }
 },
 "nbformat": 4,
 "nbformat_minor": 2
}
