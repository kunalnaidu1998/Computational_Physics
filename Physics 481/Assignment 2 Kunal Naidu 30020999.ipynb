{
 "cells": [
  {
   "cell_type": "markdown",
   "metadata": {},
   "source": [
    "# Assignment 2\n",
    "## Kunal Naidu\n",
    "## 30020999\n"
   ]
  },
  {
   "cell_type": "markdown",
   "metadata": {},
   "source": [
    "# Introduction\n",
    "\n",
    "In this report we will be looking at Hamlet. We will be calculating the entropy of a simplified Hamlet text. Following that we will be calculating the probabilities of a monkey being able to type out Hamlet. We will be doing this calculation using two different assumptions. The first assumption there is a uniform random selection of keys and the second would be that the chance of hitting a key was the same as the distribution of hamlet. After we will see the joint probability of any two letter sequence. To end we will be writing a program which generates sequences of text which sound somewhat like shakespeare.\n",
    "\n"
   ]
  },
  {
   "cell_type": "code",
   "execution_count": 1,
   "metadata": {},
   "outputs": [],
   "source": [
    "import numpy as np\n",
    "import matplotlib.pyplot as plt\n",
    "import random\n",
    "from decimal import *"
   ]
  },
  {
   "cell_type": "markdown",
   "metadata": {},
   "source": [
    "First we will start by opening the Hamlet text. We also took into account if the file wasn't downloaded. If the file wasn't downloaded, the file was downloaded and opened."
   ]
  },
  {
   "cell_type": "code",
   "execution_count": 2,
   "metadata": {},
   "outputs": [
    {
     "name": "stdout",
     "output_type": "stream",
     "text": [
      "File Found\n",
      "Opening File\n"
     ]
    }
   ],
   "source": [
    "filename= \"Hamlet.txt\"\n",
    "try:\n",
    "    file = open(filename, \"r\")\n",
    "    print(\"File Found\")\n",
    "    print(\"Opening File\")\n",
    "except FileNotFoundError:\n",
    "    print(\"File Not Found\")\n",
    "    print(\"Dowloading File\")\n",
    "    url = r'http://www.gutenberg.org/files/1524/1524-0.txt' \n",
    "    urllib.request.urlretrieve(url, r'./Hamlet.txt')\n",
    "    #file = open(filename, \"r\")\n",
    "    print(\"Opening File\")\n",
    "    "
   ]
  },
  {
   "cell_type": "markdown",
   "metadata": {},
   "source": [
    "After opening the file, we manually took out the metadata. For the rest of the values we made every letter lowercased and to make sure values are letters or spaces. We went through each value and found unique values and values which weren't unique were counted. "
   ]
  },
  {
   "cell_type": "code",
   "execution_count": 3,
   "metadata": {},
   "outputs": [],
   "source": [
    "with open('Hamlet.txt', 'r') as f2:\n",
    "    data = f2.read()\n",
    "\n",
    "Hamlet=data[858:178430]\n",
    "\n",
    "charlist = [c.lower() for c in Hamlet if c.isalpha() or c==' ']"
   ]
  },
  {
   "cell_type": "code",
   "execution_count": 4,
   "metadata": {},
   "outputs": [
    {
     "name": "stdout",
     "output_type": "stream",
     "text": [
      "[' ' 'a' 'b' 'c' 'd' 'e' 'f' 'g' 'h' 'i' 'j' 'k' 'l' 'm' 'n' 'o' 'p' 'q'\n",
      " 'r' 's' 't' 'u' 'v' 'w' 'x' 'y' 'z' 'à' 'æ']\n",
      "[28928 10282  1822  2796  5133 15664  2734  2426  8699  8882   111  1269\n",
      "  6368  4277  8688 11475  2013   219  7936  8664 12483  4461  1232  3127\n",
      "   174  3208   125     1     1]\n"
     ]
    }
   ],
   "source": [
    "charlist= np.array(charlist)\n",
    "unique, counts = np.unique(charlist, return_counts=True)\n",
    "\n",
    "length_hamlet=len(charlist)\n",
    "\n",
    "print(unique)\n",
    "print(counts)"
   ]
  },
  {
   "cell_type": "markdown",
   "metadata": {},
   "source": [
    "Now we see that we have the characters 'à' and 'æ'. We removed these characters. "
   ]
  },
  {
   "cell_type": "code",
   "execution_count": 5,
   "metadata": {},
   "outputs": [
    {
     "name": "stdout",
     "output_type": "stream",
     "text": [
      "[' ' 'a' 'b' 'c' 'd' 'e' 'f' 'g' 'h' 'i' 'j' 'k' 'l' 'm' 'n' 'o' 'p' 'q'\n",
      " 'r' 's' 't' 'u' 'v' 'w' 'x' 'y' 'z']\n",
      "[28928 10282  1822  2796  5133 15664  2734  2426  8699  8882   111  1269\n",
      "  6368  4277  8688 11475  2013   219  7936  8664 12483  4461  1232  3127\n",
      "   174  3208   125]\n"
     ]
    }
   ],
   "source": [
    "letters=unique[:-2]\n",
    "letters_counts=counts[:-2]\n",
    "\n",
    "print(letters)\n",
    "print(letters_counts)"
   ]
  },
  {
   "cell_type": "code",
   "execution_count": 6,
   "metadata": {},
   "outputs": [
    {
     "data": {
      "text/plain": [
       "Text(0,0.5,'Counts')"
      ]
     },
     "execution_count": 6,
     "metadata": {},
     "output_type": "execute_result"
    },
    {
     "data": {
      "image/png": "[encoded data removed]",
      "text/plain": [
       "<matplotlib.figure.Figure at 0x1052c0400>"
      ]
     },
     "metadata": {},
     "output_type": "display_data"
    }
   ],
   "source": [
    "plt.bar(letters[:10],letters_counts[:10])\n",
    "plt.grid('on')\n",
    "plt.title('Number of Times a Letter or Space Appears in Hamlet')\n",
    "plt.xlabel('Characters')\n",
    "plt.ylabel('Counts')\n"
   ]
  },
  {
   "cell_type": "markdown",
   "metadata": {},
   "source": [
    "The first couple of letters were plotted because that was the maximum number of letters to be able to be graphed on a single bar graph. But we are still able to see that letters are not evenly distributed. This is just explained from the fact that the english language uses different letters more often than others.\n",
    "\n",
    "Now we will calculate the entropy of simplified hamlet. Entropy is the quantity describing the disorder of a system. It is defined by the equation:\n",
    "\n",
    "$$  H = -\\sum_{i=1}^n p_i \\; log_2{p_i} = -\\frac{1}{\\ln 2} \\,\\sum_{i=1}^n p_i \\; \\ln{p_i} $$"
   ]
  },
  {
   "cell_type": "code",
   "execution_count": 7,
   "metadata": {},
   "outputs": [],
   "source": [
    "probability_letter=[]\n",
    "for values in letters_counts:\n",
    "    probability_letter.append(values/length_hamlet)\n"
   ]
  },
  {
   "cell_type": "code",
   "execution_count": 8,
   "metadata": {},
   "outputs": [],
   "source": [
    "def entropy(probability):\n",
    "    \"\"\"\n",
    "    Parameters\n",
    "    ----------\n",
    "    \n",
    "    Returns\n",
    "    -------\n",
    "    \n",
    "    \n",
    "    \"\"\"\n",
    "    H=0\n",
    "    for p in probability:\n",
    "        H=H+(p*np.log(p))\n",
    "    H=H*(-1/(np.log(2)))\n",
    "    return H"
   ]
  },
  {
   "cell_type": "code",
   "execution_count": 9,
   "metadata": {},
   "outputs": [
    {
     "name": "stdout",
     "output_type": "stream",
     "text": [
      "4.113799509121935\n"
     ]
    }
   ],
   "source": [
    "print(entropy(probability_letter))"
   ]
  },
  {
   "cell_type": "markdown",
   "metadata": {},
   "source": [
    "We calculated the value of entropy to be 4.114 J/K. \n",
    "\n",
    "Now we will calculate the probability of randomly hitting keys to get us Hamlet. We will calculate this using the following equation:\n",
    "\n",
    "\\begin{equation}\n",
    "Probability ={(\\frac{Number\\ of   Favorable\\ Outcomes}{Total\\ Number\\ of\\ Possible\\ Outcomes})}^{Number of Favourable Outcomes}\n",
    "\\end{equation}\n",
    "\n",
    "\n",
    "We will start by looking at the probability of typing hamlet if theres an equal chance to hit any given letter. In this case the $\\frac{Number of Favourable Outcomes}{Total Number of Possible Outcomes}$ will be $\\frac{1}{27}$ because for each letter there can be 27 possible outcomes.\n",
    "\n",
    "An additional calculation we will do will be trying to figure out the number of different sequences for this case. Before actually calculating the value for $27^{163198}$. We can see that it will have a very large answer. So instead we calculate the answer using logerithims to get a more managable answer. We will do this by:\n",
    "\n",
    "\\begin{align*}\n",
    "X &= 27^{163198} \\\\\n",
    "log_{27}(x)&= 163198  \\\\\n",
    "ln(x) &=  163198ln(27)  \\\\\n",
    "\\end{align*}"
   ]
  },
  {
   "cell_type": "code",
   "execution_count": 11,
   "metadata": {},
   "outputs": [
    {
     "name": "stdout",
     "output_type": "stream",
     "text": [
      "1.68090E-233596\n",
      "537873.9848581745\n"
     ]
    }
   ],
   "source": [
    "\n",
    "\n",
    "getcontext().prec = 6\n",
    "even_probability=(Decimal(1)/(Decimal(len(letters))))**Decimal(length_hamlet)\n",
    "print(even_probability)\n",
    "\n",
    "\n",
    "\n",
    "even_sequences=length_hamlet*np.log(len(letters))\n",
    "print(even_sequences)"
   ]
  },
  {
   "cell_type": "markdown",
   "metadata": {},
   "source": [
    "We found the probability to be $1.6809*10^{-233596}$ and the number of different sequences to be the $ln(x)=537873.94$\n",
    "\n",
    "Now we will calculate the probability of typing hamlet if the chance of typing a letter follows the distribution of hamlet. In this case, the number of favourable outcomes is the number of times the letter shows up in hamlet and the total number of possible outcomes is the total letters in hamlet."
   ]
  },
  {
   "cell_type": "code",
   "execution_count": 12,
   "metadata": {},
   "outputs": [
    {
     "name": "stdout",
     "output_type": "stream",
     "text": [
      "  4.04112E-122627\n",
      "a 2.54045E-195942\n",
      "b 2.17841E-318590\n",
      "c 2.17478E-288237\n",
      "d 3.42301E-245180\n",
      "e 1.23449E-166105\n",
      "f 1.01882E-289826\n",
      "g 5.92973E-298298\n",
      "h 7.59763E-207792\n",
      "i 2.66241E-206316\n",
      "j 9.64528E-516913\n",
      "k 1.24344E-344226\n",
      "l 1.13592E-229899\n",
      "m 1.06705E-258110\n",
      "n 1.58614E-207881\n",
      "o 7.67384E-188162\n",
      "p 1.15132E-311524\n",
      "q 1.45706E-468749\n",
      "r 3.60074E-214298\n",
      "s 1.37843E-208077\n",
      "t 2.68023E-182194\n",
      "u 2.53975E-255125\n",
      "v 7.09772E-346324\n",
      "w 1.75706E-280307\n",
      "x 3.31928E-485052\n",
      "y 6.30729E-278495\n",
      "z 7.67584E-508494\n"
     ]
    }
   ],
   "source": [
    "hamlet_probability=[]\n",
    "getcontext().prec = 6\n",
    "for values in probability_letter:\n",
    "    hamlet_probability.append(Decimal(values)**Decimal(length_hamlet))\n",
    "for i,j in zip(hamlet_probability,letters):\n",
    "    print(j,i)"
   ]
  },
  {
   "cell_type": "markdown",
   "metadata": {},
   "source": [
    "Now we will look at the probability of two letter combinations. This calculation is similar to the previous and just takes the probability of the previous individual letters and mulitiplies them together to get the probability of the joined two letter combination. Due to the large amount of letter combinations, only the combinations of the letter 'a' is shown."
   ]
  },
  {
   "cell_type": "code",
   "execution_count": 13,
   "metadata": {},
   "outputs": [
    {
     "name": "stdout",
     "output_type": "stream",
     "text": [
      "a  1.02663E-318568\n",
      "aa 6.45389E-391884\n",
      "ab 5.53414E-514532\n",
      "ac 5.52492E-484179\n",
      "ad 8.69599E-441122\n",
      "ae 3.13616E-362047\n",
      "af 2.58826E-485768\n",
      "ag 1.50642E-494239\n",
      "ah 1.93014E-403733\n",
      "ai 6.76372E-402258\n",
      "aj 2.45034E-712854\n",
      "ak 3.15890E-540168\n",
      "al 2.88575E-425841\n",
      "am 2.71079E-454052\n",
      "an 4.02951E-403823\n",
      "ao 1.94950E-384103\n",
      "ap 2.92487E-507466\n",
      "aq 3.70159E-664691\n",
      "ar 9.14750E-410240\n",
      "as 3.50183E-404019\n",
      "at 6.80899E-378136\n",
      "au 6.45211E-451067\n",
      "av 1.80314E-542265\n",
      "aw 4.46372E-476249\n",
      "ax 8.43246E-680994\n",
      "ay 1.60234E-474436\n",
      "az 1.95001E-704435\n"
     ]
    }
   ],
   "source": [
    "data_probability={}\n",
    "getcontext().prec = 6\n",
    "for i,j in zip(hamlet_probability,letters):\n",
    "    for k,l in zip(hamlet_probability,letters):\n",
    "        data_probability[j+l]=i*k\n",
    "for i in letters:\n",
    "    print('a'+i,data_probability['a'+i])"
   ]
  },
  {
   "cell_type": "markdown",
   "metadata": {},
   "source": [
    "When comparing the different probabilities, we can see that looking at the letters with the distribution of Hamlet vary. Some of the letters have both higher and lower probabilities than the uniform random selection of keys. This comes to also prove that some letters are more common in words than other. The two letter sequence had more probability values which were significantly lower and higher. This information helps to show word formation and what letters are used commonly together in words.\n"
   ]
  },
  {
   "cell_type": "code",
   "execution_count": 14,
   "metadata": {},
   "outputs": [],
   "source": [
    "unique_two_words={}\n",
    "\n",
    "book=Hamlet.split()\n",
    "\n",
    "for position in range(len(book)-1):\n",
    "    if book[position] in unique_two_words.keys():\n",
    "        if book[position+1] not in unique_two_words[book[position]]:\n",
    "            unique_two_words[book[position]].append(book[position+1])\n",
    "    elif book[position] not in unique_two_words.keys():\n",
    "        unique_two_words[book[position]]=[]\n",
    "\n"
   ]
  },
  {
   "cell_type": "code",
   "execution_count": 15,
   "metadata": {},
   "outputs": [],
   "source": [
    "def determine_empty_list(list):\n",
    "    \"\"\"\n",
    "    Parameters\n",
    "    ----------\n",
    "    \n",
    "    Return\n",
    "    \"\"\"\n",
    "    delete=[]\n",
    "    for i in list:\n",
    "        try:\n",
    "            if len(list)<1:\n",
    "                delete.append(i)\n",
    "        except: pass\n",
    "    return delete\n",
    "\n",
    "delete_keys=determine_empty_list(unique_two_words)\n",
    "while len(delete_keys) != 0:\n",
    "    for values in delete_keys:\n",
    "        del unique_two_words[values]\n",
    "    delete_keys=determine_empty_list(unique_two_words)\n",
    "        "
   ]
  },
  {
   "cell_type": "code",
   "execution_count": 16,
   "metadata": {},
   "outputs": [
    {
     "name": "stdout",
     "output_type": "stream",
     "text": [
      " ACT II SCENE VII. Another room of us, till that can it, Where it cannot play this favour and some vicious it? Do the issue of writ in many pocky here! [_Exit Hamlet Sits England was doubtful; like, if increase ’Swounds, show of gain-giving sure, yet ’tis most free souls, I beg it, Marcellus! Tell us so inoculate half sense. FIRST AMBASSADOR. hence tonight. Away, for me hear. GHOST. I know. KING. ’Tis dangerous when he in between them come here in us grant stole his faults in thee, good friends! How the fall to thyself: place. Danish dogs. home,\n"
     ]
    }
   ],
   "source": [
    "word=\"ACT\"\n",
    "sentence=\"\"\n",
    "for i in range(100):\n",
    "        sentence= sentence+' '+word\n",
    "        search=unique_two_words[word]\n",
    "        if len(search)>0:\n",
    "            word=random.choice(search)\n",
    "        else:\n",
    "            while len(unique_two_words[word]) < 1:\n",
    "                word=random.choice(list(unique_two_words))\n",
    "  \n",
    "print(sentence)"
   ]
  },
  {
   "cell_type": "markdown",
   "metadata": {},
   "source": [
    "For the last section, we tried to create a sequence of text which sounded like hamlet. This was done by taking the words of hamlet and then figuring out what word comes after a specific word and using this information to create a text. \n",
    "\n",
    "We chose to look at the individual words as the same way we looked at letters previously. This is because using two letter words and trying to connect them using probability would cause a higher chance of creating nonsense. Also, we saw that when looking at the probabilities of two letter combinations we could see information about word formation. With the same thought process, we could look at words to show us information on sentence formation.\n",
    "\n",
    "While choosing the next word, the first thought was to use the word with the highest probability to come next. This resulted in looping of words or sentences. So instead a list was made of the possible words which were to come next and a function which randomly chose out of the list was used.\n",
    "\n",
    "After looking at the outcome, sentences don't always really make sense grammerically. This could be fixed through analysis of sentence structure like making sure there is the correct amount of noun's and verb's. Also being able to know the whether your writing in past tense or present tense. All these factors and more can help to make the sentences more grammerically correct.\n",
    "\n",
    "# Conclusion\n",
    "\n",
    "In this report we initially calculated the Entropy of a simplified version of Hamlet to be $4.11 J/K$. Following that probabilities were calculated for a Monkey to be able to recreate Hamlet for three cases. The first case was the probability for a uniform random selection of keys. The second was the probability using the distribution of hamlet which showed us that some letters are more prevelant in the english language. The third was the probability of two key combinations which showed us word formation. Finally we looked at creating a sequence of text which sounded like Hamlet. We approached using the same ideas in the previous questions but instead of seperating by letters, we serperated hamlet by words. Our outcome had grammerical errors but could be fixed through more analysis of sentence structure. "
   ]
  }
 ],
 "metadata": {
  "kernelspec": {
   "display_name": "Python 3",
   "language": "python",
   "name": "python3"
  },
  "language_info": {
   "codemirror_mode": {
    "name": "ipython",
    "version": 3
   },
   "file_extension": ".py",
   "mimetype": "text/x-python",
   "name": "python",
   "nbconvert_exporter": "python",
   "pygments_lexer": "ipython3",
   "version": "3.6.3"
  }
 },
 "nbformat": 4,
 "nbformat_minor": 2
}
