{
 "cells": [
  {
   "cell_type": "markdown",
   "metadata": {},
   "source": [
    "# Assignment 4\n",
    "## Kunal Naidu\n",
    "## 30020999\n",
    "\n",
    "\n",
    "# Introduction\n",
    "\n",
    "\n",
    "The engery reguired to align a magnetic dipole in a magnetic field is given by \n",
    "\n",
    "$$U = - \\vec m \\cdot \\vec B = - m B \\cos\\theta $$\n",
    "\n",
    "Where $U$ is the energy, $m$ is the magnetic dipole, $B$ is the magnetic field, and $\\theta$ is the angle between the dipole moment and field direction.\n",
    "\n",
    "When the angle between the magnetic field and the dipole is paralell. The potential enegery would be a minimum at \n",
    "\n",
    "  $$ U = - m B $$\n",
    "  \n",
    "When the angle between the magnetic field and the dipole is opposite from eachother. The potential energy would be a maximum at\n",
    "\n",
    "  $$ U = + m B $$\n",
    "  \n",
    "\n",
    "\n",
    "The probability of the states of a small system in thermal equilibrium with a \"heat sink\" follows the Boltzman distribution.\n",
    "\n",
    "$$ p(\\mathbf x) \\propto \\exp \\left(-\\frac{E(\\mathbf x)}{k T}\\right) $$\n",
    "\n",
    "Where E is the energy, T is the temperture of the \"heat sink\", and x is the state. X can be considered a state or a vector of states.\n",
    "\n",
    "If we consider two arbitrary states with Energies $E_1$ and $E_2$\n",
    "\n",
    "  $$ p_1 \\propto \\exp \\left(-\\frac{E_1}{k T}\\right) $$\n",
    "\n",
    "  $$ p_2 \\propto \\exp \\left(-\\frac{E_2}{k T}\\right) $$\n",
    "  \n",
    "These probabilities aren't nomalized. So they don't add to 1. This makes sense because the probabilities are defined as relations. So they're missing a constant to make them equal to one. This constant can be found.\n",
    "\n",
    "$$ C\\, \\exp \\left(-\\frac{E_1}{k T}\\right) + C\\, \\exp \\left(-\\frac{E_2}{k T}\\right) = 1 $$\n",
    "\n",
    "Where C is a constant. $C$ can be solved to get\n",
    "\n",
    "$$ C = \\frac{1}{e^{\\left( -\\frac{E_1}{k T} \\right)}\n",
    "+ e^{\\left( -\\frac{E_2}{k T} \\right)}} $$\n",
    "\n",
    "But for more simplicity the inverse can be used and called $Z$\n",
    "\n",
    "$$ Z = e^{\\left( -\\frac{E_1}{k T} \\right)}\n",
    "+ e^{\\left( -\\frac{E_2}{k T} \\right)} $$\n",
    "\n",
    "$\\beta$ can also be defined to further simply\n",
    "\n",
    "$$ \\beta = \\frac{1}{k_B T}  $$\n",
    "\n",
    "Now looking back at the probability equation with the new constant,\n",
    "\n",
    "$$ p_k = \\frac{e^{-\\beta E_k}}{Z} $$\n",
    "\n",
    "\n",
    "The relative probability can be also calculated which doesn't need us to care about the constant $C$.\n",
    "\n",
    "$$ r = \\frac{p_f}{p_i} \\propto e^{(E_2-E_1)/kT} $$\n",
    "\n",
    "Lets define $E_+$ and $E_-$ to be the engery of spin up and spin down respectively. Since we know that the energies are of equal magnitude of opposite direction. The change in energy would be \n",
    "\n",
    "$$ \\Delta E = E_+ - E_- = 2E $$\n",
    "\n",
    "We can also calculate the probability for spin up and spin down.\n",
    "\n",
    " $$ p_+ = \\frac{1}{1 + \\exp(-\\beta \\Delta E )} $$\n",
    " \n",
    " $$ p_- = \\frac{1}{1 + \\exp(+\\beta \\Delta E )} $$\n",
    " \n",
    "For a group of dipoles wtih states +1 and -1 in a external magnetic field the engery is\n",
    "\n",
    "$$ E = -B \\sum_k S_k $$\n",
    "\n",
    "We have 4 different possiblilites for two different states. \n",
    "\n",
    "      S1  S2   Energy  Probability (un-normalized)\n",
    "     +1  +1   -2B      exp(+beta 2B)\n",
    "     +1  -1    0B      1\n",
    "     -1  +1    0B      1\n",
    "     -1  -1    2B      exp(-beta 2B)\n",
    "     \n",
    "Although there is only 3 different energy configurations.\n",
    "\n",
    "Using these 3 different engery configurations, we can calculate the individual probabilities for these states to be.\n",
    "\n",
    " $$ p_i = \\frac{e^{-E/T}}{Z} $$\n",
    " \n",
    "where,\n",
    "\n",
    "$$ Z = \\exp(-2B \\beta) + 2 \\exp(0) + \\exp(+2B \\beta) $$\n",
    "\n",
    "For an arbitrary number of N dipoles the partition function is defined as\n",
    "\n",
    "$$Z=\\sum_i^N e^{-\\beta*E_i}$$"
   ]
  },
  {
   "cell_type": "code",
   "execution_count": 1,
   "metadata": {},
   "outputs": [],
   "source": [
    "from itertools import permutations\n",
    "import numpy as np\n",
    "import scipy.constants\n",
    "import pandas as pd\n",
    "import timeit\n",
    "import matplotlib.pyplot as plt"
   ]
  },
  {
   "cell_type": "code",
   "execution_count": 2,
   "metadata": {},
   "outputs": [],
   "source": [
    "def combinations(N):\n",
    "    \"\"\"\n",
    "    Determines all possible combinations of values of +1 and -1 for 1 dimentional N-sized array\n",
    "    \n",
    "    Parameters\n",
    "    ----------\n",
    "    \n",
    "    N: number of values in array\n",
    "    \n",
    "    Returns\n",
    "    -------\n",
    "    \n",
    "    unique_outcomes: list of all the possible combinations of values for the N-sized array\n",
    "    \n",
    "    \"\"\"\n",
    "    outcomes=[]\n",
    "    all_negative=np.full(N,-1)\n",
    "    outcomes=outcomes+list(permutations(all_negative))\n",
    "    for i in range(N):\n",
    "        all_negative[i]=1\n",
    "        outcomes=outcomes+list(permutations(all_negative))\n",
    "    unique_outcomes=list(set(outcomes))\n",
    "    return unique_outcomes"
   ]
  },
  {
   "cell_type": "code",
   "execution_count": 3,
   "metadata": {},
   "outputs": [],
   "source": [
    "def energy_state(unique_combinations,B):\n",
    "    \"\"\"\n",
    "    Determines Energy State for an arbritary list of dipoles\n",
    "    \n",
    "    Parameters\n",
    "    ----------\n",
    "    \n",
    "    unique_combinations: list of arbitrary lists of dipoles\n",
    "    \n",
    "    B: External Magnetic Field\n",
    "    \n",
    "    Returns\n",
    "    -------\n",
    "    \n",
    "    energy: list of the energies for the arbitrairy list of dipoles\n",
    "    \n",
    "    \"\"\"\n",
    "    energy=[]\n",
    "    for i in unique_combinations:\n",
    "        s=sum(i)\n",
    "        energy.append(-B*s)\n",
    "    return energy\n",
    "    "
   ]
  },
  {
   "cell_type": "code",
   "execution_count": 4,
   "metadata": {},
   "outputs": [],
   "source": [
    "def probability(N,B,beta):\n",
    "    \"\"\"\n",
    "    Determines the probability for an configurations of dipoles\n",
    "    \n",
    "    Parameters\n",
    "    ----------\n",
    "    \n",
    "    N: Number of independent dipoles\n",
    "    \n",
    "    B: External Magnetic Field\n",
    "    \n",
    "    beta: relationship between 1/(k_B*T)\n",
    "    \n",
    "    Returns\n",
    "    -------\n",
    "    \n",
    "    p_i: list of the probabilities of different configurations\n",
    "    \n",
    "    e: list of the energy of different configurations\n",
    "    \n",
    "    c: list of all the possible combinations of values for the N-sized array\n",
    "    \n",
    "    \"\"\"\n",
    "    p_i=[]\n",
    "    c=combinations(N)\n",
    "    e=energy_state(c,B)\n",
    "    z=0\n",
    "    for i in e:\n",
    "        z+=np.exp(-beta*i)\n",
    "    for i in e:\n",
    "        #p_numerator=np.exp(-i*beta*scipy.constants.Boltzmann)\n",
    "        p_numerator=np.exp(-i*beta)\n",
    "        p_i.append(p_numerator/z)\n",
    "    return p_i,e,c"
   ]
  },
  {
   "cell_type": "code",
   "execution_count": 5,
   "metadata": {},
   "outputs": [
    {
     "data": {
      "text/html": [
       "<div>\n",
       "<style scoped>\n",
       "    .dataframe tbody tr th:only-of-type {\n",
       "        vertical-align: middle;\n",
       "    }\n",
       "\n",
       "    .dataframe tbody tr th {\n",
       "        vertical-align: top;\n",
       "    }\n",
       "\n",
       "    .dataframe thead th {\n",
       "        text-align: right;\n",
       "    }\n",
       "</style>\n",
       "<table border=\"1\" class=\"dataframe\">\n",
       "  <thead>\n",
       "    <tr style=\"text-align: right;\">\n",
       "      <th></th>\n",
       "      <th>States</th>\n",
       "      <th>Energy</th>\n",
       "      <th>Probability</th>\n",
       "    </tr>\n",
       "  </thead>\n",
       "  <tbody>\n",
       "    <tr>\n",
       "      <th>0</th>\n",
       "      <td>(1, 1, -1)</td>\n",
       "      <td>-2</td>\n",
       "      <td>0.143841</td>\n",
       "    </tr>\n",
       "    <tr>\n",
       "      <th>1</th>\n",
       "      <td>(-1, 1, 1)</td>\n",
       "      <td>-2</td>\n",
       "      <td>0.143841</td>\n",
       "    </tr>\n",
       "    <tr>\n",
       "      <th>2</th>\n",
       "      <td>(1, -1, -1)</td>\n",
       "      <td>2</td>\n",
       "      <td>0.096420</td>\n",
       "    </tr>\n",
       "    <tr>\n",
       "      <th>3</th>\n",
       "      <td>(-1, -1, 1)</td>\n",
       "      <td>2</td>\n",
       "      <td>0.096420</td>\n",
       "    </tr>\n",
       "    <tr>\n",
       "      <th>4</th>\n",
       "      <td>(-1, -1, -1)</td>\n",
       "      <td>6</td>\n",
       "      <td>0.064632</td>\n",
       "    </tr>\n",
       "    <tr>\n",
       "      <th>5</th>\n",
       "      <td>(-1, 1, -1)</td>\n",
       "      <td>2</td>\n",
       "      <td>0.096420</td>\n",
       "    </tr>\n",
       "    <tr>\n",
       "      <th>6</th>\n",
       "      <td>(1, -1, 1)</td>\n",
       "      <td>-2</td>\n",
       "      <td>0.143841</td>\n",
       "    </tr>\n",
       "    <tr>\n",
       "      <th>7</th>\n",
       "      <td>(1, 1, 1)</td>\n",
       "      <td>-6</td>\n",
       "      <td>0.214586</td>\n",
       "    </tr>\n",
       "  </tbody>\n",
       "</table>\n",
       "</div>"
      ],
      "text/plain": [
       "         States  Energy  Probability\n",
       "0    (1, 1, -1)      -2     0.143841\n",
       "1    (-1, 1, 1)      -2     0.143841\n",
       "2   (1, -1, -1)       2     0.096420\n",
       "3   (-1, -1, 1)       2     0.096420\n",
       "4  (-1, -1, -1)       6     0.064632\n",
       "5   (-1, 1, -1)       2     0.096420\n",
       "6    (1, -1, 1)      -2     0.143841\n",
       "7     (1, 1, 1)      -6     0.214586"
      ]
     },
     "execution_count": 5,
     "metadata": {},
     "output_type": "execute_result"
    }
   ],
   "source": [
    "a=probability(3,2,0.1)\n",
    "pd.DataFrame({'States':a[2],'Energy':a[1],'Probability':a[0]})"
   ]
  },
  {
   "cell_type": "code",
   "execution_count": 6,
   "metadata": {},
   "outputs": [],
   "source": [
    "def random_state(N,B=2,beta=0.1):\n",
    "    \"\"\"\n",
    "    Randomly chooses a state with the probabilities of Boltzmann distribution.\n",
    "    \n",
    "    Parameters\n",
    "    ----------\n",
    "    \n",
    "    N: Number of independent dipoles\n",
    "    \n",
    "    B: External Magnetic Field\n",
    "    \n",
    "    beta: relationship between 1/(k_B*T)\n",
    "    \n",
    "    Returns\n",
    "    --------\n",
    "    \n",
    "    state_actual= random state\n",
    "    \n",
    "    \"\"\"\n",
    "    data=probability(N,B,beta)\n",
    "    state_number = np.random.choice(range(len(data[2])), p=data[0])\n",
    "    state_actual=data[2][state_number]\n",
    "    return state_actual"
   ]
  },
  {
   "cell_type": "code",
   "execution_count": 7,
   "metadata": {},
   "outputs": [
    {
     "data": {
      "text/plain": [
       "(-1, 1, 1)"
      ]
     },
     "execution_count": 7,
     "metadata": {},
     "output_type": "execute_result"
    }
   ],
   "source": [
    "random_state(3)"
   ]
  },
  {
   "cell_type": "code",
   "execution_count": 8,
   "metadata": {},
   "outputs": [],
   "source": [
    "n=100\n",
    "time_N=[]\n",
    "N_range=range(2,10)\n",
    "for i in N_range:\n",
    "    function=str(random_state(i))\n",
    "    t=timeit.timeit(function,setup='from __main__ import random_state', number=n)\n",
    "    time_N.append(t)"
   ]
  },
  {
   "cell_type": "code",
   "execution_count": 9,
   "metadata": {},
   "outputs": [
    {
     "data": {
      "text/plain": [
       "Text(0,0.5,'Probability')"
      ]
     },
     "execution_count": 9,
     "metadata": {},
     "output_type": "execute_result"
    },
    {
     "data": {
      "image/png": "[encoded data removed]",
      "text/plain": [
       "<matplotlib.figure.Figure at 0x10de0d198>"
      ]
     },
     "metadata": {},
     "output_type": "display_data"
    }
   ],
   "source": [
    "plt.plot(N_range,time_N)\n",
    "\n",
    "plt.grid('on')\n",
    "plt.title('Computation time to Calculate Probability with Boltzmann Distribution')\n",
    "plt.xlabel('N')\n",
    "plt.ylabel('Probability')\n"
   ]
  },
  {
   "cell_type": "code",
   "execution_count": null,
   "metadata": {},
   "outputs": [],
   "source": []
  },
  {
   "cell_type": "code",
   "execution_count": null,
   "metadata": {},
   "outputs": [],
   "source": []
  },
  {
   "cell_type": "markdown",
   "metadata": {},
   "source": [
    "If we look at the Metropolis Algorithim, we can find a different approach to this problem. With this approach we will look at an initial energy $E_0$ and will be changing it to $E_1$ and be calculating probability that it will stay in this state. We will be looking at the following equation/code:\n",
    "\n",
    "\n",
    "$$p=min(1,e^{-\\frac{\\Delta E}{T}})$$\n",
    "\n",
    "where $$ \\Delta E=E_1−E_0$$\n",
    "\n",
    "If at a higher energy state then there will always be a flip to a lower energy state. If at a lower energy state there is a probability that it might flip into a higher energy state. The transition from lower energy state to higher energy state is more probable at higher tempertures.\n"
   ]
  },
  {
   "cell_type": "code",
   "execution_count": 10,
   "metadata": {},
   "outputs": [],
   "source": [
    "def metropolis(dE,T):\n",
    "    p=min(1,np.exp(-dE/T))\n",
    "    return p"
   ]
  },
  {
   "cell_type": "code",
   "execution_count": 11,
   "metadata": {},
   "outputs": [
    {
     "name": "stdout",
     "output_type": "stream",
     "text": [
      "0.9996667222160499\n",
      "0.9966722160545233\n",
      "0.9672161004820059\n"
     ]
    }
   ],
   "source": [
    "dE=[0.1,1.0,10.0]\n",
    "for E in dE:\n",
    "    print(metropolis(E,300))"
   ]
  },
  {
   "cell_type": "code",
   "execution_count": 15,
   "metadata": {},
   "outputs": [],
   "source": [
    "#boltzmann_1d=probability(1,2,0.1)\n",
    "#pd.DataFrame({'States':boltzmann_1d[2],'Energy':boltzmann_1d[1],'Probability':boltzmann_1d[0]})"
   ]
  },
  {
   "cell_type": "code",
   "execution_count": 27,
   "metadata": {},
   "outputs": [],
   "source": [
    "def random_state_m(dE,T):\n",
    "    state=[]\n",
    "    Probability_M_plus1=metropolis(dE,T)\n",
    "    Probability_M_minus1=1-Probability_M_plus1\n",
    "    itterations=1000\n",
    "    for values in range(itterations):\n",
    "        state_number = np.random.choice([1,-1], p=[Probability_M_plus1,Probability_M_minus1])\n",
    "        state.append(state_number)\n",
    "    return state, itterations"
   ]
  },
  {
   "cell_type": "code",
   "execution_count": 41,
   "metadata": {},
   "outputs": [
    {
     "data": {
      "image/png": "[encoded data removed]",
      "text/plain": [
       "<matplotlib.figure.Figure at 0x113fc4e10>"
      ]
     },
     "metadata": {},
     "output_type": "display_data"
    }
   ],
   "source": [
    "dE=[0.1,1.0,10.0]\n",
    "T=300\n",
    "data={}\n",
    "position=[411,412,]\n",
    "for values in dE:\n",
    "    data[values]=random_state_m(values,T)\n",
    "\n",
    "plt.figure(1)\n",
    "for i,j,k in zip(data.keys(),dE,position):\n",
    "    plt.subplot(k)\n",
    "    plt.plot(range(data[i][1]),data[i][0],\"go\",label=str(j))\n",
    " \n"
   ]
  },
  {
   "cell_type": "code",
   "execution_count": null,
   "metadata": {},
   "outputs": [],
   "source": [
    "plt.plot(range(itterations),state,\"go\")\n",
    "plt.grid('on')\n",
    "plt.title('State Over Several Itterations With B=2 and T=300')\n",
    "plt.xlabel('Itterations')\n",
    "plt.ylabel('State')"
   ]
  }
 ],
 "metadata": {
  "kernelspec": {
   "display_name": "Python 3",
   "language": "python",
   "name": "python3"
  },
  "language_info": {
   "codemirror_mode": {
    "name": "ipython",
    "version": 3
   },
   "file_extension": ".py",
   "mimetype": "text/x-python",
   "name": "python",
   "nbconvert_exporter": "python",
   "pygments_lexer": "ipython3",
   "version": "3.6.3"
  }
 },
 "nbformat": 4,
 "nbformat_minor": 2
}
