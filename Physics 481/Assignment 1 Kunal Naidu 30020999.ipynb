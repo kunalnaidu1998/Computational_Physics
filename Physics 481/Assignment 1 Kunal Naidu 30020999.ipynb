{
 "cells": [
  {
   "cell_type": "markdown",
   "metadata": {},
   "source": [
    "# Assignment 1\n",
    "### Kunal Naidu\n",
    "### 30020999\n",
    "\n",
    "## Introduction\n",
    "\n",
    "In this report we will be analysizing the difference between list and tuples. Following we will be calculating the factorial of 52 and creating a function which simulates the Overhand shuffle."
   ]
  },
  {
   "cell_type": "code",
   "execution_count": 1,
   "metadata": {},
   "outputs": [],
   "source": [
    "import numpy as np\n",
    "import scipy.special\n",
    "import matplotlib.pyplot as plt\n",
    "import time\n",
    "import pandas as pd"
   ]
  },
  {
   "cell_type": "markdown",
   "metadata": {},
   "source": [
    "When looking at a deck of cards; there are 52 different cards. To see how many different combinations we can have of the deck of cards we can take the factorial of 52. We can do this by:\n",
    "\\begin{equation}\n",
    "n!=1*2*3*...*n\n",
    "\\end{equation}\n",
    "\n",
    "Once calculated, we can compare the answer to assumed correct value from Wikipedia."
   ]
  },
  {
   "cell_type": "code",
   "execution_count": 2,
   "metadata": {},
   "outputs": [
    {
     "name": "stdout",
     "output_type": "stream",
     "text": [
      "8.065817517094388e+67\n"
     ]
    }
   ],
   "source": [
    "def factorial_52():\n",
    "    \"\"\"\n",
    "    Calculates the factorial of 52.\n",
    "    \n",
    "    Parameters\n",
    "    ----------\n",
    "    \n",
    "    None\n",
    "    \n",
    "    Returns\n",
    "    -------\n",
    "    \n",
    "    factorial- the factorial of 52\n",
    "    \n",
    "    \"\"\"\n",
    "    factorial=1\n",
    "    for values in range(1,53):\n",
    "        factorial=factorial*values\n",
    "    return factorial\n",
    "\n",
    "print(np.format_float_scientific(factorial_52()))"
   ]
  },
  {
   "cell_type": "code",
   "execution_count": 3,
   "metadata": {},
   "outputs": [
    {
     "name": "stdout",
     "output_type": "stream",
     "text": [
      "8.065817517094388e+67\n"
     ]
    }
   ],
   "source": [
    "theoredical_factorial=80658175170943878571660636856403766975289505440883277824000000000000\n",
    "print(np.format_float_scientific(theoredical_factorial))"
   ]
  },
  {
   "cell_type": "code",
   "execution_count": 4,
   "metadata": {},
   "outputs": [],
   "source": [
    "calculated_factorial=factorial_52()"
   ]
  },
  {
   "cell_type": "code",
   "execution_count": 5,
   "metadata": {},
   "outputs": [
    {
     "name": "stdout",
     "output_type": "stream",
     "text": [
      "percent error of factorial function 0.0 %\n"
     ]
    }
   ],
   "source": [
    "percent_error_factorial=((calculated_factorial-theoredical_factorial)/theoredical_factorial)*100\n",
    "\n",
    "print(\"percent error of factorial function\",percent_error_factorial, \"%\")"
   ]
  },
  {
   "cell_type": "code",
   "execution_count": 6,
   "metadata": {},
   "outputs": [
    {
     "data": {
      "text/plain": [
       "int"
      ]
     },
     "execution_count": 6,
     "metadata": {},
     "output_type": "execute_result"
    }
   ],
   "source": [
    "type(factorial_52())"
   ]
  },
  {
   "cell_type": "code",
   "execution_count": 7,
   "metadata": {},
   "outputs": [
    {
     "data": {
      "text/plain": [
       "226"
      ]
     },
     "execution_count": 7,
     "metadata": {},
     "output_type": "execute_result"
    }
   ],
   "source": [
    "int.bit_length(factorial_52())"
   ]
  },
  {
   "cell_type": "markdown",
   "metadata": {},
   "source": [
    "We see that we were perfectly able to calculate the factorial of 52 when comparing the value to Wikipedia. Python's largest data type for an integer is int64. So the maximum value which can be calculated using that data type would be 9,223,372,036,854,775,807; which is signicantly smaller than the factorial of 52. The expected result when calculating the factorial using interger type would be an overflow error. But we can see that this did't happen. So we can assume that there has been an update in python which can handle a larger interger. Looking at the data type of our answer we can see that it has a int data type. Anayzing the int data type we can see the bit length for our answer which was 226. This could mean that python now has some variable int type which allocates memory when needed.\n",
    "\n",
    "Now we will be looking at the overhand shuffle. The overhand shuffle is a shuffle where you take groups of cards from the top of the deck and move them to another hand to make another new deck. The following function will simulate the shuffle."
   ]
  },
  {
   "cell_type": "code",
   "execution_count": 8,
   "metadata": {},
   "outputs": [],
   "source": [
    "def overhand_shuffle(deck, blocksize):\n",
    "    \"\"\"\n",
    "    Takes a deck and simulates an overhand shuffle.\n",
    "    \n",
    "    Parameters\n",
    "    ----------\n",
    "    \n",
    "    deck: List of numbers. Also called the deck of cards\n",
    "    \n",
    "    blocksize: The number of items in the list which are moved. Also can be referenced to the amount\n",
    "    cards which are moved in the overhand shuffle in each step.\n",
    "    \n",
    "    Returns\n",
    "    -------\n",
    "    \n",
    "    deck_new: A shuffled deck. A list with the same length and attributes but with the overhand\n",
    "    shuffle applied to them.\n",
    "    \n",
    "    \n",
    "    \"\"\"\n",
    "    deck_new=[]\n",
    "    while len(deck) >= blocksize:\n",
    "        for values in deck[-blocksize:]:\n",
    "            deck_new.append(deck[values])\n",
    "        deck=deck[:-blocksize]\n",
    "    if len(deck) != 0:\n",
    "        for values in deck:\n",
    "            deck_new.append(values)\n",
    "    return deck_new"
   ]
  },
  {
   "cell_type": "code",
   "execution_count": 9,
   "metadata": {},
   "outputs": [
    {
     "name": "stdout",
     "output_type": "stream",
     "text": [
      "[47, 48, 49, 50, 51, 42, 43, 44, 45, 46, 37, 38, 39, 40, 41, 32, 33, 34, 35, 36, 27, 28, 29, 30, 31, 22, 23, 24, 25, 26, 17, 18, 19, 20, 21, 12, 13, 14, 15, 16, 7, 8, 9, 10, 11, 2, 3, 4, 5, 6, 0, 1]\n"
     ]
    }
   ],
   "source": [
    "deck=list(range(52))\n",
    "print(overhand_shuffle(deck,5))"
   ]
  },
  {
   "cell_type": "markdown",
   "metadata": {},
   "source": [
    "The riffle shuffle is a shuffle that cuts the deck in half and combined the cards interleaved. Shuffling the deck 7 times should completely randomize the deck. We will try to prove that statement."
   ]
  },
  {
   "cell_type": "code",
   "execution_count": 10,
   "metadata": {},
   "outputs": [
    {
     "name": "stdout",
     "output_type": "stream",
     "text": [
      "[0, 2, 4, 6, 8, 10, 12, 14, 16, 18, 20, 22, 24, 26, 28, 30, 32, 34, 36, 38, 40, 42, 44, 46, 48, 50, 1, 3, 5, 7, 9, 11, 13, 15, 17, 19, 21, 23, 25, 27, 29, 31, 33, 35, 37, 39, 41, 43, 45, 47, 49, 51]\n"
     ]
    }
   ],
   "source": [
    "def riffle_shuffle(deck):\n",
    "    \"\"\" This function changes the order of a sequence \n",
    "    by dividing it into two sections and merging them\n",
    "    like shuffling a deck of cards.\n",
    "    \"\"\"\n",
    "       \n",
    "    ncards = len(deck)\n",
    "    assert( (ncards %2) == 0 )\n",
    "    assert( ncards == 52 )\n",
    "    \n",
    "    nhalf = ncards//2\n",
    "    half0 = deck[0:nhalf]\n",
    "    half1 = deck[nhalf:]\n",
    "   \n",
    "    result = []\n",
    "    for indx in range( nhalf ):\n",
    "        result.append( half0[indx] )\n",
    "        result.append( half1[indx] )\n",
    "        \n",
    "\n",
    "    return result\n",
    "        \n",
    "deck = range(52)[:]\n",
    "for count in range(7):\n",
    "    deck = riffle_shuffle(deck)\n",
    "print(deck)"
   ]
  },
  {
   "cell_type": "markdown",
   "metadata": {},
   "source": [
    "The riffle function does not randomize the cards after 7 shuffles. This isn't due to any error of the function. Theoredically simililar to the function, the riffle shuffle is very exact and reapeating it 7 times causes it to have a known layout of the cards. But in real life this is not the case. Using a riffle shuffle can completely randomize a deck of cards. This is due to the human error. When actually doing a riffle shuffle you aren't able to perfectly cut the deck in half all the time. Also when going to combine the cards interleaved; in actuality does not perfectly happen because instead of alternating, sometimes we can have multiple cards from one side being included.\n",
    "\n",
    "Arnolds \"catmap\" applies a transformation to an image which is equilvant to sheering and folding. Two methods were used. The first method used loops to modify one pixel at a time. The second method was to array indexing. The two methods computation time will be compared to determine efficientcy."
   ]
  },
  {
   "cell_type": "code",
   "execution_count": 11,
   "metadata": {},
   "outputs": [],
   "source": [
    "def catmap1(square):\n",
    "    \"\"\"Apply Arnold's cat map to a square NxN numpy array\n",
    "    using loops to modify pixels one at a time.\n",
    "    \"\"\"\n",
    "    \n",
    "    nx,ny = square.shape[0:2]\n",
    "    assert (nx == ny & ny > 1)\n",
    "    \n",
    "    result = square.copy()\n",
    "    for x in range(nx):\n",
    "        for y in range(ny):\n",
    "            xx = x + y\n",
    "            yy = x + 2*y\n",
    "            result[x,y] = square[xx % nx, yy % ny]\n",
    "            \n",
    "    return result\n",
    "\n",
    "def catmap2(square):\n",
    "    \"\"\"\n",
    "    Apply Arnold's cat map to a square NxN numpy array \n",
    "    using array indexing.\n",
    "    \"\"\"\n",
    "    \n",
    "    nx,ny = square.shape[0:2]\n",
    "    assert (nx == ny & ny > 1)\n",
    "    \n",
    "    x, y = np.arange(nx), np.arange(ny)\n",
    "    xx, yy = np.meshgrid(x, y, sparse=False, indexing='ij')\n",
    "    \n",
    "    xx = xx + yy\n",
    "    yy = yy + xx\n",
    "    \n",
    "    return square[xx % nx, yy % ny]  \n"
   ]
  },
  {
   "cell_type": "code",
   "execution_count": 12,
   "metadata": {},
   "outputs": [],
   "source": [
    "\n",
    "data={}\n",
    "\n",
    "catmap_1_time=[]\n",
    "catmap_2_time=[]\n",
    "\n",
    "iterations=list(range(2,257))\n",
    "\n",
    "for n in iterations:\n",
    "    test = np.arange(n*n).reshape(n,n)\n",
    "    test1 = test.copy()\n",
    "    test2 = test.copy()\n",
    "\n",
    "    time_i_1=time.clock()\n",
    "    catmap1(test1)\n",
    "    time_f_1=time.clock()\n",
    "    time_delta_1=time_f_1-time_i_1\n",
    "\n",
    "\n",
    "    time_i_2=time.clock()\n",
    "    catmap2(test2)\n",
    "    time_f_2=time.clock()\n",
    "    time_delta_2=time_f_2-time_i_2\n",
    "    \n",
    "    catmap_1_time.append(time_delta_1)\n",
    "    catmap_2_time.append(time_delta_2)\n",
    "\n",
    "data[1]=catmap_1_time\n",
    "data[2]=catmap_2_time\n"
   ]
  },
  {
   "cell_type": "code",
   "execution_count": 13,
   "metadata": {},
   "outputs": [
    {
     "data": {
      "text/plain": [
       "<matplotlib.legend.Legend at 0x1091a7cf8>"
      ]
     },
     "execution_count": 13,
     "metadata": {},
     "output_type": "execute_result"
    },
    {
     "data": {
      "image/png": "[encoded data removed]",
      "text/plain": [
       "<matplotlib.figure.Figure at 0x10b02fe10>"
      ]
     },
     "metadata": {},
     "output_type": "display_data"
    }
   ],
   "source": [
    "for n,l in zip(data.keys(),['Catmap 1','Catmap 2']):\n",
    "    plt.plot(iterations, data[n],label=l)\n",
    "    \n",
    "plt.grid('on')\n",
    "plt.title('Computation Time of Function For Different Number of Iterations')\n",
    "plt.xlabel('Iterations')\n",
    "plt.ylabel('Computation Time (s)')\n",
    "plt.legend(loc=0)"
   ]
  },
  {
   "cell_type": "code",
   "execution_count": 14,
   "metadata": {},
   "outputs": [
    {
     "data": {
      "text/plain": [
       "<matplotlib.legend.Legend at 0x10b09fcf8>"
      ]
     },
     "execution_count": 14,
     "metadata": {},
     "output_type": "execute_result"
    },
    {
     "data": {
      "image/png": "[encoded data removed]",
      "text/plain": [
       "<matplotlib.figure.Figure at 0x10b09fdd8>"
      ]
     },
     "metadata": {},
     "output_type": "display_data"
    }
   ],
   "source": [
    "for n,l in zip(data.keys(),['Catmap 1','Catmap 2']):\n",
    "    plt.plot(iterations[:50], data[n][:50],label=l)\n",
    "    \n",
    "plt.grid('on')\n",
    "plt.title('Computation Time of Function For Different Number of Iterations')\n",
    "plt.xlabel('Iterations')\n",
    "plt.ylabel('Computation Time (s)')\n",
    "plt.legend(loc=0)"
   ]
  },
  {
   "cell_type": "markdown",
   "metadata": {},
   "source": [
    "For several different iterations of both functions, we can see that as the iterations increase; Catmap1 starts to increase in computation time while Catmap2 someone has a constant computation time. This is expected because the computation of loops take much longer than array indexing. \n",
    "\n",
    "The small spikes throughout the curve arises from the variability in the compuation time. The curve could be smoothed out by averaging serval time measurements but due to lowering computation time, it was decided to take single time meaurements. But still we are able to see the trend of the graph. \n",
    "\n",
    "Looking at the data before 10 iterations we can see that Catmap1 actually takes less time to compute than Catmap 2. \n",
    "This is the case where having loops is faster than array indexing.\n",
    "\n",
    "From this we can see that knowing our data and the opperations preformed can beneficial when choosing a method of calculation.\n",
    "\n",
    "Now we will look at Catmap 1 in particular and how many iterations it takes for the different size images."
   ]
  },
  {
   "cell_type": "code",
   "execution_count": 15,
   "metadata": {},
   "outputs": [],
   "source": [
    "def iteration_cat(n):\n",
    "    \"\"\"\n",
    "    Apply Arnold's cat map to a square NxN numpy array\n",
    "    using loops to modify pixels one at a time.\n",
    "    \"\"\"\n",
    "    count=0\n",
    "    square = np.arange(n*n).reshape(n,n)\n",
    "    nx,ny = square.shape[0:2]\n",
    "    assert (nx == ny & ny > 1)\n",
    "    result_square = square.copy()\n",
    "    for x in range(nx):\n",
    "        for y in range(ny):\n",
    "            result_square[x,y] = square[x,y]\n",
    "            count=count+1\n",
    "    return count"
   ]
  },
  {
   "cell_type": "code",
   "execution_count": 16,
   "metadata": {},
   "outputs": [],
   "source": [
    "iteration_number=list(range(2,21))\n",
    "iterations=[]\n",
    "for values in iteration_number:\n",
    "    iterations.append(iteration_cat(values))\n",
    "    \n"
   ]
  },
  {
   "cell_type": "code",
   "execution_count": 17,
   "metadata": {},
   "outputs": [
    {
     "data": {
      "text/html": [
       "<div>\n",
       "<style scoped>\n",
       "    .dataframe tbody tr th:only-of-type {\n",
       "        vertical-align: middle;\n",
       "    }\n",
       "\n",
       "    .dataframe tbody tr th {\n",
       "        vertical-align: top;\n",
       "    }\n",
       "\n",
       "    .dataframe thead th {\n",
       "        text-align: right;\n",
       "    }\n",
       "</style>\n",
       "<table border=\"1\" class=\"dataframe\">\n",
       "  <thead>\n",
       "    <tr style=\"text-align: right;\">\n",
       "      <th></th>\n",
       "      <th>Size of NxN Matrix</th>\n",
       "      <th>Iterations</th>\n",
       "    </tr>\n",
       "  </thead>\n",
       "  <tbody>\n",
       "    <tr>\n",
       "      <th>0</th>\n",
       "      <td>2</td>\n",
       "      <td>4</td>\n",
       "    </tr>\n",
       "    <tr>\n",
       "      <th>1</th>\n",
       "      <td>3</td>\n",
       "      <td>9</td>\n",
       "    </tr>\n",
       "    <tr>\n",
       "      <th>2</th>\n",
       "      <td>4</td>\n",
       "      <td>16</td>\n",
       "    </tr>\n",
       "    <tr>\n",
       "      <th>3</th>\n",
       "      <td>5</td>\n",
       "      <td>25</td>\n",
       "    </tr>\n",
       "    <tr>\n",
       "      <th>4</th>\n",
       "      <td>6</td>\n",
       "      <td>36</td>\n",
       "    </tr>\n",
       "    <tr>\n",
       "      <th>5</th>\n",
       "      <td>7</td>\n",
       "      <td>49</td>\n",
       "    </tr>\n",
       "    <tr>\n",
       "      <th>6</th>\n",
       "      <td>8</td>\n",
       "      <td>64</td>\n",
       "    </tr>\n",
       "    <tr>\n",
       "      <th>7</th>\n",
       "      <td>9</td>\n",
       "      <td>81</td>\n",
       "    </tr>\n",
       "    <tr>\n",
       "      <th>8</th>\n",
       "      <td>10</td>\n",
       "      <td>100</td>\n",
       "    </tr>\n",
       "    <tr>\n",
       "      <th>9</th>\n",
       "      <td>11</td>\n",
       "      <td>121</td>\n",
       "    </tr>\n",
       "    <tr>\n",
       "      <th>10</th>\n",
       "      <td>12</td>\n",
       "      <td>144</td>\n",
       "    </tr>\n",
       "    <tr>\n",
       "      <th>11</th>\n",
       "      <td>13</td>\n",
       "      <td>169</td>\n",
       "    </tr>\n",
       "    <tr>\n",
       "      <th>12</th>\n",
       "      <td>14</td>\n",
       "      <td>196</td>\n",
       "    </tr>\n",
       "    <tr>\n",
       "      <th>13</th>\n",
       "      <td>15</td>\n",
       "      <td>225</td>\n",
       "    </tr>\n",
       "    <tr>\n",
       "      <th>14</th>\n",
       "      <td>16</td>\n",
       "      <td>256</td>\n",
       "    </tr>\n",
       "    <tr>\n",
       "      <th>15</th>\n",
       "      <td>17</td>\n",
       "      <td>289</td>\n",
       "    </tr>\n",
       "    <tr>\n",
       "      <th>16</th>\n",
       "      <td>18</td>\n",
       "      <td>324</td>\n",
       "    </tr>\n",
       "    <tr>\n",
       "      <th>17</th>\n",
       "      <td>19</td>\n",
       "      <td>361</td>\n",
       "    </tr>\n",
       "    <tr>\n",
       "      <th>18</th>\n",
       "      <td>20</td>\n",
       "      <td>400</td>\n",
       "    </tr>\n",
       "  </tbody>\n",
       "</table>\n",
       "</div>"
      ],
      "text/plain": [
       "    Size of NxN Matrix  Iterations\n",
       "0                    2           4\n",
       "1                    3           9\n",
       "2                    4          16\n",
       "3                    5          25\n",
       "4                    6          36\n",
       "5                    7          49\n",
       "6                    8          64\n",
       "7                    9          81\n",
       "8                   10         100\n",
       "9                   11         121\n",
       "10                  12         144\n",
       "11                  13         169\n",
       "12                  14         196\n",
       "13                  15         225\n",
       "14                  16         256\n",
       "15                  17         289\n",
       "16                  18         324\n",
       "17                  19         361\n",
       "18                  20         400"
      ]
     },
     "execution_count": 17,
     "metadata": {},
     "output_type": "execute_result"
    }
   ],
   "source": [
    "pd.DataFrame({'Size of NxN Matrix':iteration_number,'Iterations':iterations})"
   ]
  },
  {
   "cell_type": "code",
   "execution_count": 18,
   "metadata": {},
   "outputs": [],
   "source": [
    "fig_iteration_number=list(range(2,257))\n",
    "fig_iterations=[]\n",
    "for values in fig_iteration_number:\n",
    "    fig_iterations.append(iteration_cat(values))\n"
   ]
  },
  {
   "cell_type": "code",
   "execution_count": 19,
   "metadata": {},
   "outputs": [
    {
     "data": {
      "text/plain": [
       "Text(0,0.5,'Iterations')"
      ]
     },
     "execution_count": 19,
     "metadata": {},
     "output_type": "execute_result"
    },
    {
     "data": {
      "image/png": "[encoded data removed]",
      "text/plain": [
       "<matplotlib.figure.Figure at 0x10b0561d0>"
      ]
     },
     "metadata": {},
     "output_type": "display_data"
    }
   ],
   "source": [
    "plt.plot(fig_iteration_number,fig_iterations)\n",
    "\n",
    "plt.grid('on')\n",
    "plt.title('Iterations Required to Map a NxN Image onto Itself')\n",
    "plt.xlabel('N')\n",
    "plt.ylabel('Iterations')\n"
   ]
  },
  {
   "cell_type": "markdown",
   "metadata": {},
   "source": [
    "We can see that as image or matrix gets larger, the amount of iterations exponentially increase.\n",
    "\n",
    "## Discussion\n",
    "\n",
    "The differnece between tuples and lists is that you can't change the values or length in a tuple after it has been created. Lists have variable length and the items in the list can be added and removed. Tuples use parentheses as lists use brackets. The entries for tuples can be unrelated from one another while the entries in lists are all related. List's can't be used for dictionary keys while tuples can.\n",
    "\n",
    "## Conclusion\n",
    "\n",
    "In this report, we initially looked at the calculation of the factorial 52. We found something we didn't expect which resulted in us seeing a change in how python treats interger data types. \n",
    "\n",
    "Following that a function was made that simulated the overhand shuffle. \n",
    "\n",
    "The riffle shuffle was also simulated using a function but didn't follow the belief that shuffling 7 times will completely randomize a deck. But when taking into account human error we can see that it is possible. \n",
    "\n",
    "Catmap1 and Catmap 2 were both compared for computation time for the different number of iterations. Where Catmap1 was seen to be more efficient with very small iterations while Catmap 2 was more efficient with larger iterations. This let us come to the conclusion that knowing what operations we perform and the data we are using can help us use a efficient method of calculation. \n",
    "\n",
    "Finally we looked specifically at Catmap1 and found that as the matrix gets larger the iterations exponentially increase."
   ]
  }
 ],
 "metadata": {
  "kernelspec": {
   "display_name": "Python 3",
   "language": "python",
   "name": "python3"
  },
  "language_info": {
   "codemirror_mode": {
    "name": "ipython",
    "version": 3
   },
   "file_extension": ".py",
   "mimetype": "text/x-python",
   "name": "python",
   "nbconvert_exporter": "python",
   "pygments_lexer": "ipython3",
   "version": "3.6.3"
  }
 },
 "nbformat": 4,
 "nbformat_minor": 2
}
